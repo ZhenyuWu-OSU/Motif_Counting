{
 "cells": [
  {
   "cell_type": "code",
   "execution_count": 29,
   "metadata": {},
   "outputs": [],
   "source": [
    "import re\n",
    "import pandas as pd\n",
    "import numpy as np\n",
    "import os\n",
    "\n"
   ]
  },
  {
   "cell_type": "code",
   "execution_count": 30,
   "metadata": {},
   "outputs": [],
   "source": [
    "## make function\n",
    "def countmotif(inputstr:str,pattern:str):\n",
    "    i=0\n",
    "    matchtime=0\n",
    "    for i in range(0,len(inputstr)):\n",
    "        test_str=inputstr[i:i+3]\n",
    "        #print(test_str)\n",
    "        matchtime=matchtime+(test_str==pattern)\n",
    "    return matchtime\n",
    "\n"
   ]
  },
  {
   "cell_type": "code",
   "execution_count": 90,
   "metadata": {},
   "outputs": [],
   "source": [
    "\n",
    "fr=open('KSHV-UP000000942-short.fasta')  ## the fasta file\n",
    "\n",
    "dict={}\n",
    "for line in fr:\n",
    "    if line.startswith('>'):\n",
    "        name1=line.split(\"OX=\")[0]\n",
    "        #print(name1)\n",
    "        name = name1[1:150]\n",
    "        #print(name)\n",
    "        dict[name]=''\n",
    "    else:\n",
    "        dict[name]+=line.replace('\\n','')\n",
    "fr.close()"
   ]
  },
  {
   "cell_type": "code",
   "execution_count": 91,
   "metadata": {},
   "outputs": [],
   "source": [
    "        my_df = pd.DataFrame.from_dict(dict, orient='index')\n",
    "        my_df\n",
    "\n",
    "        testmotif=[\"GPP\",\"DPP\",\"PPP\",\"SPP\",\"PPG\",\"PPA\",\"PPV\",\"PPE\",\n",
    "                   \"PPD\",\"APP\",\"MPP\",\"DSP\",\"DDP\",\"PDP\",\"DNP\",\"DGP\",\n",
    "                   \"PDK\",\"PDG\",\"GDP\",\"PDI\",\"PGP\",\"PDR\",\"DPG\",\"RDK\",\n",
    "                   \"PDA\",\"PDV\",\"DVG\",\"DDG\",\"GGT\"]\n",
    "        for name in testmotif:\n",
    "            namecount=[]\n",
    "            for ID in dict.keys():\n",
    "                namecount.append(countmotif(dict[ID],name))   \n",
    "            my_df[str(name)]=namecount\n",
    "\n",
    "        length=[]\n",
    "        for ID in dict.keys():\n",
    "            length.append(len(dict[ID]))\n",
    "\n",
    "        length\n",
    "\n",
    "        my_df[\"length\"]=length\n",
    "        my_df.to_csv(\"KSHV_motif_frequency\"+\".csv\")\n"
   ]
  },
  {
   "cell_type": "code",
   "execution_count": null,
   "metadata": {},
   "outputs": [],
   "source": []
  },
  {
   "cell_type": "code",
   "execution_count": null,
   "metadata": {},
   "outputs": [],
   "source": []
  },
  {
   "cell_type": "code",
   "execution_count": null,
   "metadata": {},
   "outputs": [],
   "source": []
  },
  {
   "cell_type": "code",
   "execution_count": null,
   "metadata": {},
   "outputs": [],
   "source": []
  },
  {
   "cell_type": "code",
   "execution_count": null,
   "metadata": {},
   "outputs": [],
   "source": []
  },
  {
   "cell_type": "code",
   "execution_count": null,
   "metadata": {},
   "outputs": [],
   "source": []
  },
  {
   "cell_type": "code",
   "execution_count": null,
   "metadata": {},
   "outputs": [],
   "source": []
  },
  {
   "cell_type": "code",
   "execution_count": null,
   "metadata": {},
   "outputs": [],
   "source": []
  },
  {
   "cell_type": "code",
   "execution_count": null,
   "metadata": {},
   "outputs": [],
   "source": []
  },
  {
   "cell_type": "code",
   "execution_count": null,
   "metadata": {},
   "outputs": [],
   "source": []
  },
  {
   "cell_type": "code",
   "execution_count": null,
   "metadata": {},
   "outputs": [],
   "source": []
  },
  {
   "cell_type": "code",
   "execution_count": null,
   "metadata": {},
   "outputs": [],
   "source": []
  },
  {
   "cell_type": "code",
   "execution_count": null,
   "metadata": {},
   "outputs": [],
   "source": []
  },
  {
   "cell_type": "code",
   "execution_count": null,
   "metadata": {},
   "outputs": [],
   "source": []
  },
  {
   "cell_type": "code",
   "execution_count": null,
   "metadata": {},
   "outputs": [],
   "source": []
  },
  {
   "cell_type": "code",
   "execution_count": null,
   "metadata": {},
   "outputs": [],
   "source": []
  }
 ],
 "metadata": {
  "kernelspec": {
   "display_name": "Python ()",
   "language": "python",
   "name": "python3"
  },
  "language_info": {
   "codemirror_mode": {
    "name": "ipython",
    "version": 3
   },
   "file_extension": ".py",
   "mimetype": "text/x-python",
   "name": "python",
   "nbconvert_exporter": "python",
   "pygments_lexer": "ipython3",
   "version": "3.8.3"
  }
 },
 "nbformat": 4,
 "nbformat_minor": 4
}
