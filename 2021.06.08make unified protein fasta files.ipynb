{
 "cells": [
  {
   "cell_type": "code",
   "execution_count": 2,
   "metadata": {},
   "outputs": [],
   "source": [
    "import re\n",
    "import pandas as pd\n",
    "import numpy as np\n",
    "import os\n",
    "\n",
    "fr=open('KSHV-uniprot-proteome UP000000942.fasta')  # the fasta file downloaded \n",
    "fw=open('./KSHV-UP000000942-short.fasta', 'w')  # The output file\n"
   ]
  },
  {
   "cell_type": "code",
   "execution_count": 3,
   "metadata": {},
   "outputs": [],
   "source": [
    "### make the protein identifier shorter \n",
    "\n",
    "## only preserve 4-10 characters in the identifier\n",
    "dict={}\n",
    "for line in fr:\n",
    "    if line.startswith('>'):\n",
    "        name1=line.split()[0]\n",
    "        name = name1[4:10]\n",
    "        dict[name]=''\n",
    "    else:\n",
    "        dict[name]+=line.replace('\\n','')\n",
    "fr.close()"
   ]
  },
  {
   "cell_type": "code",
   "execution_count": 4,
   "metadata": {},
   "outputs": [],
   "source": [
    "#### write fasta \n",
    "id_ok = []\n",
    "for ID in dict.keys():\n",
    "    # print(ID)\n",
    " #   if ID in protein:  # ['Q2XN56','A0A5C2GFH1','Q86TH5','Q8N8B7']\n",
    "        # print('ok!')\n",
    "        id_ok.append(ID)\n",
    "        fw.write('>')\n",
    "        fw.write(ID)\n",
    "        fw.write('\\n')\n",
    "        fw.write(dict[ID])\n",
    "        fw.write('\\n')\n",
    "        \n",
    "fw.close()"
   ]
  },
  {
   "cell_type": "code",
   "execution_count": 6,
   "metadata": {},
   "outputs": [],
   "source": []
  },
  {
   "cell_type": "code",
   "execution_count": null,
   "metadata": {},
   "outputs": [],
   "source": []
  }
 ],
 "metadata": {
  "kernelspec": {
   "display_name": "Python ()",
   "language": "python",
   "name": "python3"
  },
  "language_info": {
   "codemirror_mode": {
    "name": "ipython",
    "version": 3
   },
   "file_extension": ".py",
   "mimetype": "text/x-python",
   "name": "python",
   "nbconvert_exporter": "python",
   "pygments_lexer": "ipython3",
   "version": "3.8.3"
  }
 },
 "nbformat": 4,
 "nbformat_minor": 4
}
